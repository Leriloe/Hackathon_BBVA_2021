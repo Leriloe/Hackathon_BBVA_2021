{
  "nbformat": 4,
  "nbformat_minor": 0,
  "metadata": {
    "colab": {
      "name": "Hackathon.ipynb",
      "provenance": [],
      "include_colab_link": true
    },
    "kernelspec": {
      "name": "python3",
      "display_name": "Python 3"
    },
    "language_info": {
      "name": "python"
    }
  },
  "cells": [
    {
      "cell_type": "markdown",
      "metadata": {
        "id": "view-in-github",
        "colab_type": "text"
      },
      "source": [
        "<a href=\"https://colab.research.google.com/github/Leriloe/Hackathon_BBVA_2021/blob/main/Hackathon.ipynb\" target=\"_parent\"><img src=\"https://colab.research.google.com/assets/colab-badge.svg\" alt=\"Open In Colab\"/></a>"
      ]
    },
    {
      "cell_type": "markdown",
      "metadata": {
        "id": "JlQNIALZ2omu"
      },
      "source": [
        "# **Twitter: el peso de las palabras**\n",
        "# Equipo Dinamita \n"
      ]
    },
    {
      "cell_type": "markdown",
      "metadata": {
        "id": "JOD-WVao33bD"
      },
      "source": [
        "Tras haber obtenido la base de datos de los tweets con la plataforma \"Export Comments\", se proseguirá a realizar el cálculo del sentimiento y un análisis exploratorio general de la base de datos."
      ]
    },
    {
      "cell_type": "code",
      "metadata": {
        "id": "vbE_3GfqwJ85"
      },
      "source": [
        "# Se exportan las librerías a utilizar.\n",
        "import pandas as pd\n",
        "import matplotlib.pyplot as plt\n",
        "import warnings\n",
        "warnings.filterwarnings('ignore')"
      ],
      "execution_count": 1,
      "outputs": []
    },
    {
      "cell_type": "code",
      "metadata": {
        "colab": {
          "base_uri": "https://localhost:8080/"
        },
        "id": "3Mdd7R2DU6ML",
        "outputId": "042cc461-43d6-41c0-d031-d15e2bf5168b"
      },
      "source": [
        "# Se importan las paqueterías.\n",
        "import nltk\n",
        "nltk.download('vader_lexicon')\n",
        "from nltk.sentiment.vader import SentimentIntensityAnalyzer\n",
        "sid = SentimentIntensityAnalyzer()"
      ],
      "execution_count": 3,
      "outputs": [
        {
          "output_type": "stream",
          "name": "stderr",
          "text": [
            "[nltk_data] Downloading package vader_lexicon to /root/nltk_data...\n"
          ]
        }
      ]
    },
    {
      "cell_type": "code",
      "metadata": {
        "colab": {
          "base_uri": "https://localhost:8080/"
        },
        "id": "5QbkckC7Uzv7",
        "outputId": "89f15970-72b8-4e54-fb97-bdf1d5b72e07"
      },
      "source": [
        "!pip install dataprep\n",
        "from dataprep.eda import create_report"
      ],
      "execution_count": 4,
      "outputs": [
        {
          "output_type": "stream",
          "name": "stdout",
          "text": [
            "Requirement already satisfied: dataprep in /usr/local/lib/python3.7/dist-packages (0.3.0)\n",
            "Requirement already satisfied: metaphone<0.7,>=0.6 in /usr/local/lib/python3.7/dist-packages (from dataprep) (0.6)\n",
            "Requirement already satisfied: python-Levenshtein<0.13.0,>=0.12.2 in /usr/local/lib/python3.7/dist-packages (from dataprep) (0.12.2)\n",
            "Requirement already satisfied: bottleneck<2.0,>=1.3 in /usr/local/lib/python3.7/dist-packages (from dataprep) (1.3.2)\n",
            "Requirement already satisfied: aiohttp<4.0,>=3.6 in /usr/local/lib/python3.7/dist-packages (from dataprep) (3.7.4.post0)\n",
            "Requirement already satisfied: jinja2<3.0,>=2.11 in /usr/local/lib/python3.7/dist-packages (from dataprep) (2.11.3)\n",
            "Requirement already satisfied: jsonpath-ng<2.0,>=1.5 in /usr/local/lib/python3.7/dist-packages (from dataprep) (1.5.3)\n",
            "Requirement already satisfied: regex<2021.0.0,>=2020.10.15 in /usr/local/lib/python3.7/dist-packages (from dataprep) (2020.11.13)\n",
            "Requirement already satisfied: pydantic<2.0,>=1.6 in /usr/local/lib/python3.7/dist-packages (from dataprep) (1.8.2)\n",
            "Requirement already satisfied: pandas<2.0,>=1.1 in /usr/local/lib/python3.7/dist-packages (from dataprep) (1.1.5)\n",
            "Requirement already satisfied: tqdm<5.0,>=4.48 in /usr/local/lib/python3.7/dist-packages (from dataprep) (4.62.3)\n",
            "Requirement already satisfied: wordcloud<2.0,>=1.8 in /usr/local/lib/python3.7/dist-packages (from dataprep) (1.8.1)\n",
            "Requirement already satisfied: bokeh<3,>=2 in /usr/local/lib/python3.7/dist-packages (from dataprep) (2.3.3)\n",
            "Requirement already satisfied: usaddress<0.6.0,>=0.5.10 in /usr/local/lib/python3.7/dist-packages (from dataprep) (0.5.10)\n",
            "Requirement already satisfied: dask[array,dataframe,delayed]<3.0,>=2.25 in /usr/local/lib/python3.7/dist-packages (from dataprep) (2.30.0)\n",
            "Requirement already satisfied: numpy<2,>=1 in /usr/local/lib/python3.7/dist-packages (from dataprep) (1.19.5)\n",
            "Requirement already satisfied: nltk<4.0,>=3.5 in /usr/local/lib/python3.7/dist-packages (from dataprep) (3.6.3)\n",
            "Requirement already satisfied: ipywidgets<8.0,>=7.5 in /usr/local/lib/python3.7/dist-packages (from dataprep) (7.6.5)\n",
            "Requirement already satisfied: scipy<2,>=1 in /usr/local/lib/python3.7/dist-packages (from dataprep) (1.4.1)\n",
            "Requirement already satisfied: async-timeout<4.0,>=3.0 in /usr/local/lib/python3.7/dist-packages (from aiohttp<4.0,>=3.6->dataprep) (3.0.1)\n",
            "Requirement already satisfied: chardet<5.0,>=2.0 in /usr/local/lib/python3.7/dist-packages (from aiohttp<4.0,>=3.6->dataprep) (3.0.4)\n",
            "Requirement already satisfied: typing-extensions>=3.6.5 in /usr/local/lib/python3.7/dist-packages (from aiohttp<4.0,>=3.6->dataprep) (3.7.4.3)\n",
            "Requirement already satisfied: yarl<2.0,>=1.0 in /usr/local/lib/python3.7/dist-packages (from aiohttp<4.0,>=3.6->dataprep) (1.7.0)\n",
            "Requirement already satisfied: multidict<7.0,>=4.5 in /usr/local/lib/python3.7/dist-packages (from aiohttp<4.0,>=3.6->dataprep) (5.2.0)\n",
            "Requirement already satisfied: attrs>=17.3.0 in /usr/local/lib/python3.7/dist-packages (from aiohttp<4.0,>=3.6->dataprep) (21.2.0)\n",
            "Requirement already satisfied: tornado>=5.1 in /usr/local/lib/python3.7/dist-packages (from bokeh<3,>=2->dataprep) (5.1.1)\n",
            "Requirement already satisfied: pillow>=7.1.0 in /usr/local/lib/python3.7/dist-packages (from bokeh<3,>=2->dataprep) (7.1.2)\n",
            "Requirement already satisfied: PyYAML>=3.10 in /usr/local/lib/python3.7/dist-packages (from bokeh<3,>=2->dataprep) (3.13)\n",
            "Requirement already satisfied: python-dateutil>=2.1 in /usr/local/lib/python3.7/dist-packages (from bokeh<3,>=2->dataprep) (2.8.2)\n",
            "Requirement already satisfied: packaging>=16.8 in /usr/local/lib/python3.7/dist-packages (from bokeh<3,>=2->dataprep) (21.0)\n",
            "Requirement already satisfied: fsspec>=0.6.0 in /usr/local/lib/python3.7/dist-packages (from dask[array,dataframe,delayed]<3.0,>=2.25->dataprep) (2021.10.1)\n",
            "Requirement already satisfied: toolz>=0.8.2 in /usr/local/lib/python3.7/dist-packages (from dask[array,dataframe,delayed]<3.0,>=2.25->dataprep) (0.11.1)\n",
            "Requirement already satisfied: partd>=0.3.10 in /usr/local/lib/python3.7/dist-packages (from dask[array,dataframe,delayed]<3.0,>=2.25->dataprep) (1.2.0)\n",
            "Requirement already satisfied: cloudpickle>=0.2.2 in /usr/local/lib/python3.7/dist-packages (from dask[array,dataframe,delayed]<3.0,>=2.25->dataprep) (1.3.0)\n",
            "Requirement already satisfied: ipython>=4.0.0 in /usr/local/lib/python3.7/dist-packages (from ipywidgets<8.0,>=7.5->dataprep) (5.5.0)\n",
            "Requirement already satisfied: traitlets>=4.3.1 in /usr/local/lib/python3.7/dist-packages (from ipywidgets<8.0,>=7.5->dataprep) (5.1.0)\n",
            "Requirement already satisfied: widgetsnbextension~=3.5.0 in /usr/local/lib/python3.7/dist-packages (from ipywidgets<8.0,>=7.5->dataprep) (3.5.1)\n",
            "Requirement already satisfied: ipython-genutils~=0.2.0 in /usr/local/lib/python3.7/dist-packages (from ipywidgets<8.0,>=7.5->dataprep) (0.2.0)\n",
            "Requirement already satisfied: nbformat>=4.2.0 in /usr/local/lib/python3.7/dist-packages (from ipywidgets<8.0,>=7.5->dataprep) (5.1.3)\n",
            "Requirement already satisfied: ipykernel>=4.5.1 in /usr/local/lib/python3.7/dist-packages (from ipywidgets<8.0,>=7.5->dataprep) (4.10.1)\n",
            "Requirement already satisfied: jupyterlab-widgets>=1.0.0 in /usr/local/lib/python3.7/dist-packages (from ipywidgets<8.0,>=7.5->dataprep) (1.0.2)\n",
            "Requirement already satisfied: jupyter-client in /usr/local/lib/python3.7/dist-packages (from ipykernel>=4.5.1->ipywidgets<8.0,>=7.5->dataprep) (5.3.5)\n",
            "Requirement already satisfied: pickleshare in /usr/local/lib/python3.7/dist-packages (from ipython>=4.0.0->ipywidgets<8.0,>=7.5->dataprep) (0.7.5)\n",
            "Requirement already satisfied: simplegeneric>0.8 in /usr/local/lib/python3.7/dist-packages (from ipython>=4.0.0->ipywidgets<8.0,>=7.5->dataprep) (0.8.1)\n",
            "Requirement already satisfied: setuptools>=18.5 in /usr/local/lib/python3.7/dist-packages (from ipython>=4.0.0->ipywidgets<8.0,>=7.5->dataprep) (57.4.0)\n",
            "Requirement already satisfied: pexpect in /usr/local/lib/python3.7/dist-packages (from ipython>=4.0.0->ipywidgets<8.0,>=7.5->dataprep) (4.8.0)\n",
            "Requirement already satisfied: prompt-toolkit<2.0.0,>=1.0.4 in /usr/local/lib/python3.7/dist-packages (from ipython>=4.0.0->ipywidgets<8.0,>=7.5->dataprep) (1.0.18)\n",
            "Requirement already satisfied: decorator in /usr/local/lib/python3.7/dist-packages (from ipython>=4.0.0->ipywidgets<8.0,>=7.5->dataprep) (4.4.2)\n",
            "Requirement already satisfied: pygments in /usr/local/lib/python3.7/dist-packages (from ipython>=4.0.0->ipywidgets<8.0,>=7.5->dataprep) (2.6.1)\n",
            "Requirement already satisfied: MarkupSafe>=0.23 in /usr/local/lib/python3.7/dist-packages (from jinja2<3.0,>=2.11->dataprep) (2.0.1)\n",
            "Requirement already satisfied: ply in /usr/local/lib/python3.7/dist-packages (from jsonpath-ng<2.0,>=1.5->dataprep) (3.11)\n",
            "Requirement already satisfied: six in /usr/local/lib/python3.7/dist-packages (from jsonpath-ng<2.0,>=1.5->dataprep) (1.15.0)\n",
            "Requirement already satisfied: jsonschema!=2.5.0,>=2.4 in /usr/local/lib/python3.7/dist-packages (from nbformat>=4.2.0->ipywidgets<8.0,>=7.5->dataprep) (2.6.0)\n",
            "Requirement already satisfied: jupyter-core in /usr/local/lib/python3.7/dist-packages (from nbformat>=4.2.0->ipywidgets<8.0,>=7.5->dataprep) (4.8.1)\n",
            "Requirement already satisfied: joblib in /usr/local/lib/python3.7/dist-packages (from nltk<4.0,>=3.5->dataprep) (1.0.1)\n",
            "Requirement already satisfied: click in /usr/local/lib/python3.7/dist-packages (from nltk<4.0,>=3.5->dataprep) (7.1.2)\n",
            "Requirement already satisfied: pyparsing>=2.0.2 in /usr/local/lib/python3.7/dist-packages (from packaging>=16.8->bokeh<3,>=2->dataprep) (2.4.7)\n",
            "Requirement already satisfied: pytz>=2017.2 in /usr/local/lib/python3.7/dist-packages (from pandas<2.0,>=1.1->dataprep) (2018.9)\n",
            "Requirement already satisfied: locket in /usr/local/lib/python3.7/dist-packages (from partd>=0.3.10->dask[array,dataframe,delayed]<3.0,>=2.25->dataprep) (0.2.1)\n",
            "Requirement already satisfied: wcwidth in /usr/local/lib/python3.7/dist-packages (from prompt-toolkit<2.0.0,>=1.0.4->ipython>=4.0.0->ipywidgets<8.0,>=7.5->dataprep) (0.2.5)\n",
            "Requirement already satisfied: future>=0.14 in /usr/local/lib/python3.7/dist-packages (from usaddress<0.6.0,>=0.5.10->dataprep) (0.16.0)\n",
            "Requirement already satisfied: probableparsing in /usr/local/lib/python3.7/dist-packages (from usaddress<0.6.0,>=0.5.10->dataprep) (0.0.1)\n",
            "Requirement already satisfied: python-crfsuite>=0.7 in /usr/local/lib/python3.7/dist-packages (from usaddress<0.6.0,>=0.5.10->dataprep) (0.9.7)\n",
            "Requirement already satisfied: notebook>=4.4.1 in /usr/local/lib/python3.7/dist-packages (from widgetsnbextension~=3.5.0->ipywidgets<8.0,>=7.5->dataprep) (5.3.1)\n",
            "Requirement already satisfied: Send2Trash in /usr/local/lib/python3.7/dist-packages (from notebook>=4.4.1->widgetsnbextension~=3.5.0->ipywidgets<8.0,>=7.5->dataprep) (1.8.0)\n",
            "Requirement already satisfied: nbconvert in /usr/local/lib/python3.7/dist-packages (from notebook>=4.4.1->widgetsnbextension~=3.5.0->ipywidgets<8.0,>=7.5->dataprep) (5.6.1)\n",
            "Requirement already satisfied: terminado>=0.8.1 in /usr/local/lib/python3.7/dist-packages (from notebook>=4.4.1->widgetsnbextension~=3.5.0->ipywidgets<8.0,>=7.5->dataprep) (0.12.1)\n",
            "Requirement already satisfied: pyzmq>=13 in /usr/local/lib/python3.7/dist-packages (from jupyter-client->ipykernel>=4.5.1->ipywidgets<8.0,>=7.5->dataprep) (22.3.0)\n",
            "Requirement already satisfied: ptyprocess in /usr/local/lib/python3.7/dist-packages (from terminado>=0.8.1->notebook>=4.4.1->widgetsnbextension~=3.5.0->ipywidgets<8.0,>=7.5->dataprep) (0.7.0)\n",
            "Requirement already satisfied: matplotlib in /usr/local/lib/python3.7/dist-packages (from wordcloud<2.0,>=1.8->dataprep) (3.2.2)\n",
            "Requirement already satisfied: idna>=2.0 in /usr/local/lib/python3.7/dist-packages (from yarl<2.0,>=1.0->aiohttp<4.0,>=3.6->dataprep) (2.10)\n",
            "Requirement already satisfied: cycler>=0.10 in /usr/local/lib/python3.7/dist-packages (from matplotlib->wordcloud<2.0,>=1.8->dataprep) (0.10.0)\n",
            "Requirement already satisfied: kiwisolver>=1.0.1 in /usr/local/lib/python3.7/dist-packages (from matplotlib->wordcloud<2.0,>=1.8->dataprep) (1.3.2)\n",
            "Requirement already satisfied: entrypoints>=0.2.2 in /usr/local/lib/python3.7/dist-packages (from nbconvert->notebook>=4.4.1->widgetsnbextension~=3.5.0->ipywidgets<8.0,>=7.5->dataprep) (0.3)\n",
            "Requirement already satisfied: pandocfilters>=1.4.1 in /usr/local/lib/python3.7/dist-packages (from nbconvert->notebook>=4.4.1->widgetsnbextension~=3.5.0->ipywidgets<8.0,>=7.5->dataprep) (1.5.0)\n",
            "Requirement already satisfied: defusedxml in /usr/local/lib/python3.7/dist-packages (from nbconvert->notebook>=4.4.1->widgetsnbextension~=3.5.0->ipywidgets<8.0,>=7.5->dataprep) (0.7.1)\n",
            "Requirement already satisfied: mistune<2,>=0.8.1 in /usr/local/lib/python3.7/dist-packages (from nbconvert->notebook>=4.4.1->widgetsnbextension~=3.5.0->ipywidgets<8.0,>=7.5->dataprep) (0.8.4)\n",
            "Requirement already satisfied: bleach in /usr/local/lib/python3.7/dist-packages (from nbconvert->notebook>=4.4.1->widgetsnbextension~=3.5.0->ipywidgets<8.0,>=7.5->dataprep) (4.1.0)\n",
            "Requirement already satisfied: testpath in /usr/local/lib/python3.7/dist-packages (from nbconvert->notebook>=4.4.1->widgetsnbextension~=3.5.0->ipywidgets<8.0,>=7.5->dataprep) (0.5.0)\n",
            "Requirement already satisfied: webencodings in /usr/local/lib/python3.7/dist-packages (from bleach->nbconvert->notebook>=4.4.1->widgetsnbextension~=3.5.0->ipywidgets<8.0,>=7.5->dataprep) (0.5.1)\n"
          ]
        },
        {
          "output_type": "stream",
          "name": "stderr",
          "text": [
            "NumExpr defaulting to 2 threads.\n"
          ]
        }
      ]
    },
    {
      "cell_type": "code",
      "metadata": {
        "colab": {
          "base_uri": "https://localhost:8080/",
          "height": 538
        },
        "id": "fLD1YQQCXkw2",
        "outputId": "0b902e5d-48b9-4815-e907-64f5fb75f79d"
      },
      "source": [
        "# Se carga la base de datos en un dataframe.\n",
        "df = pd.read_csv('SD-MX_BBVA.csv')\n",
        "df.head()"
      ],
      "execution_count": 7,
      "outputs": [
        {
          "output_type": "execute_result",
          "data": {
            "text/html": [
              "<div>\n",
              "<style scoped>\n",
              "    .dataframe tbody tr th:only-of-type {\n",
              "        vertical-align: middle;\n",
              "    }\n",
              "\n",
              "    .dataframe tbody tr th {\n",
              "        vertical-align: top;\n",
              "    }\n",
              "\n",
              "    .dataframe thead th {\n",
              "        text-align: right;\n",
              "    }\n",
              "</style>\n",
              "<table border=\"1\" class=\"dataframe\">\n",
              "  <thead>\n",
              "    <tr style=\"text-align: right;\">\n",
              "      <th></th>\n",
              "      <th>Pais</th>\n",
              "      <th>ServicioDigital</th>\n",
              "      <th>Name</th>\n",
              "      <th>Username</th>\n",
              "      <th>Tweet ID (click to view url)</th>\n",
              "      <th>Retweets</th>\n",
              "      <th>Comments</th>\n",
              "      <th>Favorites</th>\n",
              "      <th>Is Retweet?</th>\n",
              "      <th>Date</th>\n",
              "      <th>Tweet Text</th>\n",
              "      <th>Author Followers</th>\n",
              "      <th>Author Friends</th>\n",
              "      <th>Author Favorites</th>\n",
              "      <th>Author Statuses</th>\n",
              "      <th>Author Bio</th>\n",
              "      <th>Author Image</th>\n",
              "      <th>Author Location</th>\n",
              "      <th>Tweet Source</th>\n",
              "      <th>Status URL</th>\n",
              "      <th>Profile URL</th>\n",
              "    </tr>\n",
              "  </thead>\n",
              "  <tbody>\n",
              "    <tr>\n",
              "      <th>0</th>\n",
              "      <td>Mexico</td>\n",
              "      <td>Practicaja</td>\n",
              "      <td>Ahlanna Rua</td>\n",
              "      <td>azorrilladota</td>\n",
              "      <td>ID: 1428896344001990658</td>\n",
              "      <td>0</td>\n",
              "      <td>0</td>\n",
              "      <td>0</td>\n",
              "      <td>no</td>\n",
              "      <td>21/08/2021 01:46</td>\n",
              "      <td>@BBVA_Mex @BBVARe_mx @CondusefMX @Profeco Desd...</td>\n",
              "      <td>177</td>\n",
              "      <td>344</td>\n",
              "      <td>0</td>\n",
              "      <td>15929</td>\n",
              "      <td>Ya regresé</td>\n",
              "      <td>http://pbs.twimg.com/profile_images/9179137596...</td>\n",
              "      <td>Metepec, México</td>\n",
              "      <td>Twitter for Android</td>\n",
              "      <td>https://www.twitter.com/azorrilladota/status/1...</td>\n",
              "      <td>https://www.twitter.com/azorrilladota</td>\n",
              "    </tr>\n",
              "    <tr>\n",
              "      <th>1</th>\n",
              "      <td>Mexico</td>\n",
              "      <td>Practicaja</td>\n",
              "      <td>Macorina</td>\n",
              "      <td>DianaMaciasS</td>\n",
              "      <td>ID: 1428908398133878785</td>\n",
              "      <td>0</td>\n",
              "      <td>0</td>\n",
              "      <td>1</td>\n",
              "      <td>no</td>\n",
              "      <td>21/08/2021 02:34</td>\n",
              "      <td>@Vero_Ale @CFEmx @CFE_Contigo En practicaja de...</td>\n",
              "      <td>1282</td>\n",
              "      <td>1313</td>\n",
              "      <td>1</td>\n",
              "      <td>37950</td>\n",
              "      <td>Regia 🎀 | Rayada 💙🤍 | Fan de Selena 💜| Amo las...</td>\n",
              "      <td>http://pbs.twimg.com/profile_images/1446724704...</td>\n",
              "      <td>Monterrey, Nuevo León - México</td>\n",
              "      <td>Twitter for Android</td>\n",
              "      <td>https://www.twitter.com/DianaMaciasS/status/14...</td>\n",
              "      <td>https://www.twitter.com/DianaMaciasS</td>\n",
              "    </tr>\n",
              "    <tr>\n",
              "      <th>2</th>\n",
              "      <td>Mexico</td>\n",
              "      <td>Practicaja</td>\n",
              "      <td>Valeria Luguito</td>\n",
              "      <td>ValeriaLuguito</td>\n",
              "      <td>ID: 1429499015566090240</td>\n",
              "      <td>0</td>\n",
              "      <td>1</td>\n",
              "      <td>0</td>\n",
              "      <td>no</td>\n",
              "      <td>22/08/2021 17:41</td>\n",
              "      <td>@BBVARe_mx que tengo que escribir en un cheque...</td>\n",
              "      <td>79</td>\n",
              "      <td>559</td>\n",
              "      <td>0</td>\n",
              "      <td>770</td>\n",
              "      <td>NaN</td>\n",
              "      <td>http://pbs.twimg.com/profile_images/1316111899...</td>\n",
              "      <td>NaN</td>\n",
              "      <td>Twitter for iPhone</td>\n",
              "      <td>https://www.twitter.com/ValeriaLuguito/status/...</td>\n",
              "      <td>https://www.twitter.com/ValeriaLuguito</td>\n",
              "    </tr>\n",
              "    <tr>\n",
              "      <th>3</th>\n",
              "      <td>Mexico</td>\n",
              "      <td>Practicaja</td>\n",
              "      <td>Krn Havok</td>\n",
              "      <td>Krn_Havok</td>\n",
              "      <td>ID: 1429856148568616971</td>\n",
              "      <td>0</td>\n",
              "      <td>1</td>\n",
              "      <td>0</td>\n",
              "      <td>no</td>\n",
              "      <td>23/08/2021 17:20</td>\n",
              "      <td>@BBVA_Mex desde el 11 de agosto la practicaja ...</td>\n",
              "      <td>85</td>\n",
              "      <td>156</td>\n",
              "      <td>0</td>\n",
              "      <td>323</td>\n",
              "      <td>🌈 Tatuadora Mexicana 🦄</td>\n",
              "      <td>http://pbs.twimg.com/profile_images/1426062995...</td>\n",
              "      <td>Da HELL!</td>\n",
              "      <td>Twitter for iPhone</td>\n",
              "      <td>https://www.twitter.com/Krn_Havok/status/14298...</td>\n",
              "      <td>https://www.twitter.com/Krn_Havok</td>\n",
              "    </tr>\n",
              "    <tr>\n",
              "      <th>4</th>\n",
              "      <td>Mexico</td>\n",
              "      <td>Practicaja</td>\n",
              "      <td>Hey Banco</td>\n",
              "      <td>heybanco</td>\n",
              "      <td>ID: 1430178001107525649</td>\n",
              "      <td>0</td>\n",
              "      <td>0</td>\n",
              "      <td>0</td>\n",
              "      <td>no</td>\n",
              "      <td>24/08/2021 14:39</td>\n",
              "      <td>@Raul_GonzalezV ¡Hola! Lo puedes realizar desd...</td>\n",
              "      <td>14423</td>\n",
              "      <td>5</td>\n",
              "      <td>0</td>\n",
              "      <td>7676</td>\n",
              "      <td>Tu libertad financiera.</td>\n",
              "      <td>http://pbs.twimg.com/profile_images/1401920728...</td>\n",
              "      <td>Nuevo León, México</td>\n",
              "      <td>Salesforce - Social Studio</td>\n",
              "      <td>https://www.twitter.com/heybanco/status/143017...</td>\n",
              "      <td>https://www.twitter.com/heybanco</td>\n",
              "    </tr>\n",
              "  </tbody>\n",
              "</table>\n",
              "</div>"
            ],
            "text/plain": [
              "     Pais  ...                             Profile URL\n",
              "0  Mexico  ...   https://www.twitter.com/azorrilladota\n",
              "1  Mexico  ...    https://www.twitter.com/DianaMaciasS\n",
              "2  Mexico  ...  https://www.twitter.com/ValeriaLuguito\n",
              "3  Mexico  ...       https://www.twitter.com/Krn_Havok\n",
              "4  Mexico  ...        https://www.twitter.com/heybanco\n",
              "\n",
              "[5 rows x 21 columns]"
            ]
          },
          "metadata": {},
          "execution_count": 7
        }
      ]
    },
    {
      "cell_type": "code",
      "metadata": {
        "colab": {
          "base_uri": "https://localhost:8080/"
        },
        "id": "6sPRJ8dfYAFr",
        "outputId": "11f6178b-d36c-4f1f-9fc3-53ea9260136b"
      },
      "source": [
        "# El dataframe tiene los siguientes aspectos generales.\n",
        "df.info()"
      ],
      "execution_count": 8,
      "outputs": [
        {
          "output_type": "stream",
          "name": "stdout",
          "text": [
            "<class 'pandas.core.frame.DataFrame'>\n",
            "RangeIndex: 859 entries, 0 to 858\n",
            "Data columns (total 21 columns):\n",
            " #   Column                        Non-Null Count  Dtype \n",
            "---  ------                        --------------  ----- \n",
            " 0   Pais                          859 non-null    object\n",
            " 1   ServicioDigital               859 non-null    object\n",
            " 2   Name                          859 non-null    object\n",
            " 3   Username                      859 non-null    object\n",
            " 4   Tweet ID (click to view url)  859 non-null    object\n",
            " 5   Retweets                      859 non-null    int64 \n",
            " 6   Comments                      859 non-null    int64 \n",
            " 7   Favorites                     859 non-null    int64 \n",
            " 8   Is Retweet?                   859 non-null    object\n",
            " 9   Date                          859 non-null    object\n",
            " 10  Tweet Text                    859 non-null    object\n",
            " 11  Author Followers              859 non-null    int64 \n",
            " 12  Author Friends                859 non-null    int64 \n",
            " 13  Author Favorites              859 non-null    int64 \n",
            " 14  Author Statuses               859 non-null    int64 \n",
            " 15  Author Bio                    656 non-null    object\n",
            " 16  Author Image                  859 non-null    object\n",
            " 17  Author Location               566 non-null    object\n",
            " 18  Tweet Source                  859 non-null    object\n",
            " 19  Status URL                    759 non-null    object\n",
            " 20  Profile URL                   759 non-null    object\n",
            "dtypes: int64(7), object(14)\n",
            "memory usage: 141.1+ KB\n"
          ]
        }
      ]
    },
    {
      "cell_type": "code",
      "metadata": {
        "id": "G8PZqG1VYyw0"
      },
      "source": [
        "# Se calcula el Sentimiento a través de la paquetería de Python.\n",
        "df['Sentimiento'] = df['Tweet Text'].apply(lambda i: sid.polarity_scores(i)['compound'])\n",
        "df['Sentimiento'].describe()\n",
        "#Ahora ya se calculó el sentimienot en el dataframe original\n",
        "df.to_csv('Tweets con sentimientos.csv')"
      ],
      "execution_count": 9,
      "outputs": []
    },
    {
      "cell_type": "code",
      "metadata": {
        "colab": {
          "base_uri": "https://localhost:8080/"
        },
        "id": "P3TqOhceeZVu",
        "outputId": "1844034e-eb8f-49c1-90d7-5b77ad873246"
      },
      "source": [
        "df.info()"
      ],
      "execution_count": 10,
      "outputs": [
        {
          "output_type": "stream",
          "name": "stdout",
          "text": [
            "<class 'pandas.core.frame.DataFrame'>\n",
            "RangeIndex: 859 entries, 0 to 858\n",
            "Data columns (total 22 columns):\n",
            " #   Column                        Non-Null Count  Dtype  \n",
            "---  ------                        --------------  -----  \n",
            " 0   Pais                          859 non-null    object \n",
            " 1   ServicioDigital               859 non-null    object \n",
            " 2   Name                          859 non-null    object \n",
            " 3   Username                      859 non-null    object \n",
            " 4   Tweet ID (click to view url)  859 non-null    object \n",
            " 5   Retweets                      859 non-null    int64  \n",
            " 6   Comments                      859 non-null    int64  \n",
            " 7   Favorites                     859 non-null    int64  \n",
            " 8   Is Retweet?                   859 non-null    object \n",
            " 9   Date                          859 non-null    object \n",
            " 10  Tweet Text                    859 non-null    object \n",
            " 11  Author Followers              859 non-null    int64  \n",
            " 12  Author Friends                859 non-null    int64  \n",
            " 13  Author Favorites              859 non-null    int64  \n",
            " 14  Author Statuses               859 non-null    int64  \n",
            " 15  Author Bio                    656 non-null    object \n",
            " 16  Author Image                  859 non-null    object \n",
            " 17  Author Location               566 non-null    object \n",
            " 18  Tweet Source                  859 non-null    object \n",
            " 19  Status URL                    759 non-null    object \n",
            " 20  Profile URL                   759 non-null    object \n",
            " 21  Sentimiento                   859 non-null    float64\n",
            "dtypes: float64(1), int64(7), object(14)\n",
            "memory usage: 147.8+ KB\n"
          ]
        }
      ]
    },
    {
      "cell_type": "code",
      "metadata": {
        "colab": {
          "base_uri": "https://localhost:8080/",
          "height": 503
        },
        "id": "VlTq6rBDci74",
        "outputId": "7e456e2a-f1ac-448d-c890-725f497d8b11"
      },
      "source": [
        "df.head()"
      ],
      "execution_count": 33,
      "outputs": [
        {
          "output_type": "execute_result",
          "data": {
            "text/html": [
              "<div>\n",
              "<style scoped>\n",
              "    .dataframe tbody tr th:only-of-type {\n",
              "        vertical-align: middle;\n",
              "    }\n",
              "\n",
              "    .dataframe tbody tr th {\n",
              "        vertical-align: top;\n",
              "    }\n",
              "\n",
              "    .dataframe thead th {\n",
              "        text-align: right;\n",
              "    }\n",
              "</style>\n",
              "<table border=\"1\" class=\"dataframe\">\n",
              "  <thead>\n",
              "    <tr style=\"text-align: right;\">\n",
              "      <th></th>\n",
              "      <th>Unnamed: 0</th>\n",
              "      <th>Unnamed: 1</th>\n",
              "      <th>Name</th>\n",
              "      <th>Username</th>\n",
              "      <th>Tweet ID (click to view url)</th>\n",
              "      <th>Retweets</th>\n",
              "      <th>Comments</th>\n",
              "      <th>Favorites</th>\n",
              "      <th>Is Retweet?</th>\n",
              "      <th>Date</th>\n",
              "      <th>Tweet Text</th>\n",
              "      <th>Author Followers</th>\n",
              "      <th>Author Friends</th>\n",
              "      <th>Author Favorites</th>\n",
              "      <th>Author Statuses</th>\n",
              "      <th>Author Bio</th>\n",
              "      <th>Author Image</th>\n",
              "      <th>Author Location</th>\n",
              "      <th>Tweet Source</th>\n",
              "      <th>Status URL</th>\n",
              "      <th>Profile URL</th>\n",
              "      <th>Sentimiento</th>\n",
              "    </tr>\n",
              "  </thead>\n",
              "  <tbody>\n",
              "    <tr>\n",
              "      <th>0</th>\n",
              "      <td>1</td>\n",
              "      <td>NaN</td>\n",
              "      <td>Víctor Muiña</td>\n",
              "      <td>Victormfano</td>\n",
              "      <td>ID: 1450737861825806340</td>\n",
              "      <td>2163</td>\n",
              "      <td>770</td>\n",
              "      <td>19091</td>\n",
              "      <td>no</td>\n",
              "      <td>2021-10-20 08:17:14</td>\n",
              "      <td>San Petersburgo: una manzana, casi 20 mil pers...</td>\n",
              "      <td>9207</td>\n",
              "      <td>778</td>\n",
              "      <td>19091</td>\n",
              "      <td>13660</td>\n",
              "      <td>Profesor de Geografía e Historia.\\nDirector de...</td>\n",
              "      <td>http://pbs.twimg.com/profile_images/1441821705...</td>\n",
              "      <td>Gijón</td>\n",
              "      <td>Twitter for Android</td>\n",
              "      <td>https://www.twitter.com/Victormfano/status/145...</td>\n",
              "      <td>https://www.twitter.com/Victormfano</td>\n",
              "      <td>0.0000</td>\n",
              "    </tr>\n",
              "    <tr>\n",
              "      <th>1</th>\n",
              "      <td>2</td>\n",
              "      <td>NaN</td>\n",
              "      <td>Nicole Elisei</td>\n",
              "      <td>EliseiNicole</td>\n",
              "      <td>ID: 1450753007906398214</td>\n",
              "      <td>249</td>\n",
              "      <td>223</td>\n",
              "      <td>462</td>\n",
              "      <td>no</td>\n",
              "      <td>2021-10-20 09:17:25</td>\n",
              "      <td>🥺🥺🥺 https://t.co/HjCT7GAwRb</td>\n",
              "      <td>17983</td>\n",
              "      <td>3738</td>\n",
              "      <td>462</td>\n",
              "      <td>17234</td>\n",
              "      <td>Libera,vivente,respirante “TOO MUCH RAIN OVER ...</td>\n",
              "      <td>http://pbs.twimg.com/profile_images/1414125936...</td>\n",
              "      <td>Italy Treviso, Veneto</td>\n",
              "      <td>Twitter for iPhone</td>\n",
              "      <td>https://www.twitter.com/EliseiNicole/status/14...</td>\n",
              "      <td>https://www.twitter.com/EliseiNicole</td>\n",
              "      <td>0.0000</td>\n",
              "    </tr>\n",
              "    <tr>\n",
              "      <th>2</th>\n",
              "      <td>3</td>\n",
              "      <td>NaN</td>\n",
              "      <td>Patri</td>\n",
              "      <td>ssoypatri</td>\n",
              "      <td>ID: 1451145995044237313</td>\n",
              "      <td>19</td>\n",
              "      <td>2</td>\n",
              "      <td>144</td>\n",
              "      <td>no</td>\n",
              "      <td>2021-10-21 11:19:00</td>\n",
              "      <td>Tras dos (2) años sin dar señales de vida, lle...</td>\n",
              "      <td>1901</td>\n",
              "      <td>378</td>\n",
              "      <td>144</td>\n",
              "      <td>101</td>\n",
              "      <td>Muy tolerante</td>\n",
              "      <td>http://pbs.twimg.com/profile_images/1444785496...</td>\n",
              "      <td>España</td>\n",
              "      <td>Twitter for iPhone</td>\n",
              "      <td>https://www.twitter.com/ssoypatri/status/14511...</td>\n",
              "      <td>https://www.twitter.com/ssoypatri</td>\n",
              "      <td>-0.5574</td>\n",
              "    </tr>\n",
              "    <tr>\n",
              "      <th>3</th>\n",
              "      <td>4</td>\n",
              "      <td>NaN</td>\n",
              "      <td>Joseph Fink, 👻🎃healthcare is a human right🎃👻</td>\n",
              "      <td>PlanetofFinks</td>\n",
              "      <td>ID: 1451186869065039885</td>\n",
              "      <td>111</td>\n",
              "      <td>6</td>\n",
              "      <td>778</td>\n",
              "      <td>no</td>\n",
              "      <td>2021-10-21 14:01:25</td>\n",
              "      <td>A real estate listing is how we all found out ...</td>\n",
              "      <td>81158</td>\n",
              "      <td>784</td>\n",
              "      <td>778</td>\n",
              "      <td>41082</td>\n",
              "      <td>Welcome to Night Vale and several other podcas...</td>\n",
              "      <td>http://pbs.twimg.com/profile_images/8457458838...</td>\n",
              "      <td>NaN</td>\n",
              "      <td>Twitter Web App</td>\n",
              "      <td>https://www.twitter.com/PlanetofFinks/status/1...</td>\n",
              "      <td>https://www.twitter.com/PlanetofFinks</td>\n",
              "      <td>0.0000</td>\n",
              "    </tr>\n",
              "    <tr>\n",
              "      <th>4</th>\n",
              "      <td>5</td>\n",
              "      <td>NaN</td>\n",
              "      <td>EL MUNDO</td>\n",
              "      <td>elmundoes</td>\n",
              "      <td>ID: 1451273213921595401</td>\n",
              "      <td>68</td>\n",
              "      <td>74</td>\n",
              "      <td>128</td>\n",
              "      <td>no</td>\n",
              "      <td>2021-10-21 19:44:32</td>\n",
              "      <td>Un estudio español aporta evidencias de que el...</td>\n",
              "      <td>4007805</td>\n",
              "      <td>1387</td>\n",
              "      <td>128</td>\n",
              "      <td>354891</td>\n",
              "      <td>Cuenta oficial de EL MUNDO. https://t.co/pBM2E...</td>\n",
              "      <td>http://pbs.twimg.com/profile_images/1254054079...</td>\n",
              "      <td>España</td>\n",
              "      <td>Besocy_Oficial</td>\n",
              "      <td>https://www.twitter.com/elmundoes/status/14512...</td>\n",
              "      <td>https://www.twitter.com/elmundoes</td>\n",
              "      <td>0.0000</td>\n",
              "    </tr>\n",
              "  </tbody>\n",
              "</table>\n",
              "</div>"
            ],
            "text/plain": [
              "   Unnamed: 0  Unnamed: 1  ...                            Profile URL Sentimiento\n",
              "0           1         NaN  ...    https://www.twitter.com/Victormfano      0.0000\n",
              "1           2         NaN  ...   https://www.twitter.com/EliseiNicole      0.0000\n",
              "2           3         NaN  ...      https://www.twitter.com/ssoypatri     -0.5574\n",
              "3           4         NaN  ...  https://www.twitter.com/PlanetofFinks      0.0000\n",
              "4           5         NaN  ...      https://www.twitter.com/elmundoes      0.0000\n",
              "\n",
              "[5 rows x 22 columns]"
            ]
          },
          "metadata": {},
          "execution_count": 33
        }
      ]
    },
    {
      "cell_type": "code",
      "metadata": {
        "colab": {
          "base_uri": "https://localhost:8080/"
        },
        "id": "vO3Llfz6PlIG",
        "outputId": "1fccbbe0-af08-46e0-bcdd-feafb93dc998"
      },
      "source": [
        "df = pd.read_csv('Tweets con sentimientos-MX_Col.csv')\n",
        "df.info()\n"
      ],
      "execution_count": 5,
      "outputs": [
        {
          "output_type": "stream",
          "name": "stdout",
          "text": [
            "<class 'pandas.core.frame.DataFrame'>\n",
            "RangeIndex: 859 entries, 0 to 858\n",
            "Data columns (total 23 columns):\n",
            " #   Column                        Non-Null Count  Dtype  \n",
            "---  ------                        --------------  -----  \n",
            " 0   Unnamed: 0                    859 non-null    int64  \n",
            " 1   Pais                          859 non-null    object \n",
            " 2   ServicioDigital               859 non-null    object \n",
            " 3   Name                          859 non-null    object \n",
            " 4   Username                      859 non-null    object \n",
            " 5   Tweet ID (click to view url)  859 non-null    object \n",
            " 6   Retweets                      859 non-null    int64  \n",
            " 7   Comments                      859 non-null    int64  \n",
            " 8   Favorites                     859 non-null    int64  \n",
            " 9   Is Retweet?                   859 non-null    object \n",
            " 10  Date                          859 non-null    object \n",
            " 11  Tweet Text                    859 non-null    object \n",
            " 12  Author Followers              859 non-null    int64  \n",
            " 13  Author Friends                859 non-null    int64  \n",
            " 14  Author Favorites              859 non-null    int64  \n",
            " 15  Author Statuses               859 non-null    int64  \n",
            " 16  Author Bio                    656 non-null    object \n",
            " 17  Author Image                  859 non-null    object \n",
            " 18  Author Location               566 non-null    object \n",
            " 19  Tweet Source                  859 non-null    object \n",
            " 20  Status URL                    759 non-null    object \n",
            " 21  Profile URL                   759 non-null    object \n",
            " 22  Sentimiento                   859 non-null    float64\n",
            "dtypes: float64(1), int64(8), object(14)\n",
            "memory usage: 154.5+ KB\n"
          ]
        }
      ]
    },
    {
      "cell_type": "code",
      "metadata": {
        "id": "2ymGXNblUfdN"
      },
      "source": [
        ""
      ],
      "execution_count": null,
      "outputs": []
    },
    {
      "cell_type": "markdown",
      "metadata": {
        "id": "Zw16K-Eui0Wn"
      },
      "source": [
        "De esta forma, a esta propuesta se puede mejorar para aplicarla con una API de Twitter, donde se podrían tener datos en tiempo real."
      ]
    }
  ]
}