{
  "nbformat": 4,
  "nbformat_minor": 0,
  "metadata": {
    "colab": {
      "name": "Cuenta_Dummy.ipynb",
      "provenance": [],
      "collapsed_sections": [],
      "authorship_tag": "ABX9TyOyTy3l25WGDuIK7idJUlGz",
      "include_colab_link": true
    },
    "kernelspec": {
      "name": "python3",
      "display_name": "Python 3"
    },
    "language_info": {
      "name": "python"
    }
  },
  "cells": [
    {
      "cell_type": "markdown",
      "metadata": {
        "id": "view-in-github",
        "colab_type": "text"
      },
      "source": [
        "<a href=\"https://colab.research.google.com/github/Leriloe/Hackathon_BBVA_2021/blob/main/Cuenta_Dummy.ipynb\" target=\"_parent\"><img src=\"https://colab.research.google.com/assets/colab-badge.svg\" alt=\"Open In Colab\"/></a>"
      ]
    },
    {
      "cell_type": "markdown",
      "metadata": {
        "id": "ddowosgAs225"
      },
      "source": [
        "# **Cuentas para ver la propuesta**\n",
        "\n",
        "**Favor de no hacer mal uso de esta cuenta.**\n",
        "\n",
        "Correo: leriloe.gutierrez@alumno.buap.mx\n",
        "\n",
        "Contraseña: Publiv0r0s\n",
        "\n",
        "Prototipo: https://app.powerbi.com/reportEmbed?reportId=b04c8de3-ce63-48c8-ad15-41244e910e84&autoAuth=true&ctid=3ae3c7c7-ea51-46de-9540-12f4110eac9b&config=eyJjbHVzdGVyVXJsIjoiaHR0cHM6Ly93YWJpLXNvdXRoLWNlbnRyYWwtdXMtcmVkaXJlY3QuYW5hbHlzaXMud2luZG93cy5uZXQvIn0%3D\n"
      ]
    }
  ]
}