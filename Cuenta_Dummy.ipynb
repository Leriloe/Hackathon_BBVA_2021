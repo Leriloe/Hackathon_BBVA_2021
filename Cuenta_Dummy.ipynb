{
  "nbformat": 4,
  "nbformat_minor": 0,
  "metadata": {
    "colab": {
      "name": "Cuenta_Dummy.ipynb",
      "provenance": [],
      "authorship_tag": "ABX9TyOhkqy8XXOhkMZCPqJrypqr",
      "include_colab_link": true
    },
    "kernelspec": {
      "name": "python3",
      "display_name": "Python 3"
    },
    "language_info": {
      "name": "python"
    }
  },
  "cells": [
    {
      "cell_type": "markdown",
      "metadata": {
        "id": "view-in-github",
        "colab_type": "text"
      },
      "source": [
        "<a href=\"https://colab.research.google.com/github/Leriloe/Hackathon_BBVA_2021/blob/main/Cuenta_Dummy.ipynb\" target=\"_parent\"><img src=\"https://colab.research.google.com/assets/colab-badge.svg\" alt=\"Open In Colab\"/></a>"
      ]
    },
    {
      "cell_type": "markdown",
      "metadata": {
        "id": "ddowosgAs225"
      },
      "source": [
        "# **Cuentas para ver la propuesta**\n",
        "\n",
        "**Favor de no hacer mal uso de esta cuenta.**\n",
        "\n",
        "Correo: leriloe.gutierrez@alumno.buap.mx\n",
        "Contraseña: Publiv0r0s\n"
      ]
    }
  ]
}